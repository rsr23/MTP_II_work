{
 "cells": [
  {
   "cell_type": "markdown",
   "metadata": {},
   "source": [
    "### Reading all DICOM files\n",
    "#### As the file paths mentioned in CSV files and acutal file paths are different.\n",
    "### ------------------------------------------------------------------------- o --------------------------------------------------------------------------------"
   ]
  },
  {
   "cell_type": "code",
   "execution_count": 226,
   "metadata": {},
   "outputs": [],
   "source": [
    "import pydicom as dicom\n",
    "import numpy as np\n",
    "import matplotlib.pyplot as plt\n",
    "import os\n",
    "import cv2\n",
    "import PIL # optional\n",
    "import pandas as pd\n",
    "import csv\n",
    "import re\n",
    "%matplotlib inline"
   ]
  },
  {
   "cell_type": "code",
   "execution_count": 227,
   "metadata": {},
   "outputs": [
    {
     "data": {
      "text/plain": [
       "'E:\\\\notebooks\\\\stage_2'"
      ]
     },
     "execution_count": 227,
     "metadata": {},
     "output_type": "execute_result"
    }
   ],
   "source": [
    "os.getcwd()"
   ]
  },
  {
   "cell_type": "code",
   "execution_count": 282,
   "metadata": {},
   "outputs": [
    {
     "data": {
      "text/plain": [
       "'E:/MTP_work/stage_2/dataset/CBIS-DDSM/'"
      ]
     },
     "execution_count": 282,
     "metadata": {},
     "output_type": "execute_result"
    }
   ],
   "source": [
    "root_dir = 'E:/MTP_work/stage_2/dataset/CBIS-DDSM/'\n",
    "\n",
    "# mass_test_dir = '/home/Drive/avineil/Mass_Test_ROI/CBIS-DDSM'\n",
    "# mass_train_dir = '/home/Drive/avineil/Mass_Train_ROI/CBIS-DDSM'\n",
    "# calc_test_dir = '/home/Drive/avineil/Calc_Test_ROI/CBIS-DDSM'\n",
    "# calc_train_dir = '/home/Drive/avineil/Calc_Train_ROI/CBIS-DDSM'\n",
    "\n",
    "\n",
    "# curr_dir = calc_train_dir # change this directory accordingly\n",
    "root_dir"
   ]
  },
  {
   "cell_type": "code",
   "execution_count": 283,
   "metadata": {},
   "outputs": [],
   "source": [
    "dcm_files = []\n",
    "for root, dirs, files in os.walk(root_dir):\n",
    "    for file in files:\n",
    "        if file.endswith(\".dcm\"):\n",
    "             dcm_files.append((os.path.join(root, file)))"
   ]
  },
  {
   "cell_type": "code",
   "execution_count": 284,
   "metadata": {},
   "outputs": [
    {
     "data": {
      "text/plain": [
       "47"
      ]
     },
     "execution_count": 284,
     "metadata": {},
     "output_type": "execute_result"
    }
   ],
   "source": [
    "len(dcm_files)"
   ]
  },
  {
   "cell_type": "code",
   "execution_count": 285,
   "metadata": {},
   "outputs": [
    {
     "data": {
      "text/plain": [
       "['E:/MTP_work/stage_2/dataset/CBIS-DDSM/Mass-Training_P_01888_RIGHT_MLO_1\\\\07-21-2016-DDSM-98952\\\\1-ROI mask images-23508\\\\000000.dcm',\n",
       " 'E:/MTP_work/stage_2/dataset/CBIS-DDSM/Mass-Training_P_01888_RIGHT_MLO_1\\\\07-21-2016-DDSM-98952\\\\1-ROI mask images-23508\\\\000001.dcm',\n",
       " 'E:/MTP_work/stage_2/dataset/CBIS-DDSM/Mass-Training_P_01889_RIGHT_CC\\\\07-20-2016-DDSM-51519\\\\1-full mammogram images-76495\\\\000000.dcm',\n",
       " 'E:/MTP_work/stage_2/dataset/CBIS-DDSM/Mass-Training_P_01889_RIGHT_CC_1\\\\07-21-2016-DDSM-46689\\\\1-ROI mask images-49263\\\\000000.dcm',\n",
       " 'E:/MTP_work/stage_2/dataset/CBIS-DDSM/Mass-Training_P_01889_RIGHT_CC_1\\\\07-21-2016-DDSM-46689\\\\1-ROI mask images-49263\\\\000001.dcm']"
      ]
     },
     "execution_count": 285,
     "metadata": {},
     "output_type": "execute_result"
    }
   ],
   "source": [
    "dcm_files[:5]"
   ]
  },
  {
   "cell_type": "markdown",
   "metadata": {},
   "source": [
    "### ------------------------------------------------------------------------- o --------------------------------------------------------------------------------\n",
    "### Conerting DICOM files to PNG files."
   ]
  },
  {
   "cell_type": "code",
   "execution_count": 317,
   "metadata": {},
   "outputs": [],
   "source": [
    "def fileTypeChecker(dcm_file):\n",
    "    \"\"\" Returns dicom file type of the given file as one of the following [full_mammogram, ROI_patch, Mask]\"\"\"\n",
    "    \n",
    "    img = dicom.dcmread(dcm_file)\n",
    "    img_path = dcm_file\n",
    "    try:\n",
    "        if img.SeriesDescription == 'cropped images':\n",
    "            return 'ROI_patch', img.PatientID\n",
    "        elif img.SeriesDescription == 'ROI mask images':\n",
    "            return 'Mask', img.PatientID\n",
    "        elif img.SeriesDescription == 'full mammogram images':\n",
    "            return 'full_mammogram', img.PatientID + \"_1\" # \"_1\" to make label prediction easy when looking up in csv file.\n",
    "        \n",
    "    except AttributeError :\n",
    "        if img_path.find('mammogram') != -1:\n",
    "            return 'full_mammogram', img.PatientID + \"_1\" # \"_1\" to make label prediction easy when looking up in csv file.\n",
    "        elif img_path.find('ROI') != -1:\n",
    "            return 'Mask', img.PatientID"
   ]
  },
  {
   "cell_type": "code",
   "execution_count": 296,
   "metadata": {
    "collapsed": true
   },
   "outputs": [
    {
     "name": "stdout",
     "output_type": "stream",
     "text": [
      "Mass-Training_P_01888_RIGHT_MLO_1\n",
      "Mass-Training_P_01888_RIGHT_MLO_1\n",
      "Mass-Training_P_01889_RIGHT_CC\n",
      "Mass-Training_P_01889_RIGHT_CC_1\n",
      "Mass-Training_P_01889_RIGHT_CC_1\n",
      "Mass-Training_P_01889_RIGHT_MLO\n",
      "Mass-Training_P_01889_RIGHT_MLO_1\n",
      "Mass-Training_P_01889_RIGHT_MLO_1\n",
      "Mass-Training_P_01890_LEFT_MLO\n",
      "Mass-Training_P_01890_LEFT_MLO_1\n",
      "Mass-Training_P_01890_LEFT_MLO_1\n",
      "Mass-Training_P_01908_LEFT_CC\n",
      "Mass-Training_P_01908_LEFT_CC_1\n",
      "Mass-Training_P_01908_LEFT_CC_1\n",
      "Mass-Training_P_01946_RIGHT_CC\n",
      "Mass-Training_P_01946_RIGHT_CC_1\n",
      "Mass-Training_P_01946_RIGHT_CC_1\n",
      "Mass-Training_P_01946_RIGHT_MLO\n",
      "Mass-Training_P_01946_RIGHT_MLO_1\n",
      "Mass-Training_P_01946_RIGHT_MLO_1\n",
      "Mass-Training_P_01981_RIGHT_CC\n",
      "Mass-Training_P_01981_RIGHT_CC_1\n",
      "Mass-Training_P_01981_RIGHT_CC_1\n",
      "Mass-Training_P_01981_RIGHT_MLO\n",
      "Mass-Training_P_01981_RIGHT_MLO_1\n",
      "Mass-Training_P_01981_RIGHT_MLO_1\n",
      "Mass-Training_P_01983_LEFT_MLO\n",
      "Mass-Training_P_01983_LEFT_MLO_1\n",
      "Mass-Training_P_01983_LEFT_MLO_1\n",
      "Mass-Training_P_02033_RIGHT_CC\n",
      "Mass-Training_P_02033_RIGHT_CC_1\n",
      "Mass-Training_P_02033_RIGHT_CC_1\n",
      "Mass-Training_P_02033_RIGHT_MLO\n",
      "Mass-Training_P_02033_RIGHT_MLO_1\n",
      "Mass-Training_P_02033_RIGHT_MLO_1\n",
      "Mass-Training_P_02079_RIGHT_CC\n",
      "Mass-Training_P_02079_RIGHT_CC_1\n",
      "Mass-Training_P_02079_RIGHT_CC_1\n",
      "Mass-Training_P_02079_RIGHT_MLO\n",
      "Mass-Training_P_02079_RIGHT_MLO_1\n",
      "Mass-Training_P_02079_RIGHT_MLO_1\n",
      "Mass-Training_P_02092_LEFT_CC\n",
      "Mass-Training_P_02092_LEFT_CC_1\n",
      "Mass-Training_P_02092_LEFT_CC_1\n",
      "Mass-Training_P_02092_LEFT_MLO\n",
      "Mass-Training_P_02092_LEFT_MLO_1\n",
      "Mass-Training_P_02092_LEFT_MLO_1\n"
     ]
    }
   ],
   "source": [
    "for f in dcm_files:\n",
    "    g = dicom.dcmread(f)\n",
    "    print(g.PatientID)"
   ]
  },
  {
   "cell_type": "code",
   "execution_count": 297,
   "metadata": {
    "collapsed": true
   },
   "outputs": [
    {
     "data": {
      "text/plain": [
       "(0008, 0005) Specific Character Set              CS: 'ISO_IR 100'\n",
       "(0008, 0016) SOP Class UID                       UI: Secondary Capture Image Storage\n",
       "(0008, 0018) SOP Instance UID                    UI: 1.3.6.1.4.1.9590.100.1.2.196340980611987253508274758753288908702\n",
       "(0008, 0020) Study Date                          DA: '20160720'\n",
       "(0008, 0023) Content Date                        DA: '20160426'\n",
       "(0008, 0030) Study Time                          TM: '215115'\n",
       "(0008, 0033) Content Time                        TM: '150020.346000'\n",
       "(0008, 0050) Accession Number                    SH: ''\n",
       "(0008, 0060) Modality                            CS: 'MG'\n",
       "(0008, 0064) Conversion Type                     CS: 'WSD'\n",
       "(0008, 0090) Referring Physician's Name          PN: ''\n",
       "(0008, 103e) Series Description                  LO: 'cropped images'\n",
       "(0010, 0010) Patient's Name                      PN: 'Mass-Training_P_01888_RIGHT_MLO_1'\n",
       "(0010, 0020) Patient ID                          LO: 'Mass-Training_P_01888_RIGHT_MLO_1'\n",
       "(0010, 0030) Patient's Birth Date                DA: ''\n",
       "(0010, 0040) Patient's Sex                       CS: ''\n",
       "(0013, 0010) Private Creator                     LO: 'CTP'\n",
       "(0013, 1010) Private tag data                    UN: b'CBIS-DDSM '\n",
       "(0013, 1013) Private tag data                    UN: b'43352602'\n",
       "(0018, 0015) Body Part Examined                  CS: 'BREAST'\n",
       "(0018, 1016) Secondary Capture Device Manufactur LO: 'MathWorks'\n",
       "(0018, 1018) Secondary Capture Device Manufactur LO: 'MATLAB'\n",
       "(0020, 000d) Study Instance UID                  UI: 1.3.6.1.4.1.9590.100.1.2.289480970012233746101767323240632098952\n",
       "(0020, 000e) Series Instance UID                 UI: 1.3.6.1.4.1.9590.100.1.2.410393818511203906132763795700564523508\n",
       "(0020, 0010) Study ID                            SH: 'DDSM'\n",
       "(0020, 0011) Series Number                       IS: \"1\"\n",
       "(0020, 0013) Instance Number                     IS: \"1\"\n",
       "(0020, 0020) Patient Orientation                 CS: 'MLO'\n",
       "(0020, 0060) Laterality                          CS: 'R'\n",
       "(0028, 0002) Samples per Pixel                   US: 1\n",
       "(0028, 0004) Photometric Interpretation          CS: 'MONOCHROME2'\n",
       "(0028, 0010) Rows                                US: 393\n",
       "(0028, 0011) Columns                             US: 388\n",
       "(0028, 0100) Bits Allocated                      US: 16\n",
       "(0028, 0101) Bits Stored                         US: 16\n",
       "(0028, 0102) High Bit                            US: 15\n",
       "(0028, 0103) Pixel Representation                US: 0\n",
       "(0028, 0106) Smallest Image Pixel Value          US: 28399\n",
       "(0028, 0107) Largest Image Pixel Value           US: 65535\n",
       "(7fe0, 0010) Pixel Data                          OW: Array of 304968 bytes"
      ]
     },
     "execution_count": 297,
     "metadata": {},
     "output_type": "execute_result"
    }
   ],
   "source": [
    "dicom.dcmread(dcm_files[0])"
   ]
  },
  {
   "cell_type": "code",
   "execution_count": 299,
   "metadata": {},
   "outputs": [
    {
     "data": {
      "text/plain": [
       "'E:/MTP_work/stage_2/dataset/CBIS-DDSM/'"
      ]
     },
     "execution_count": 299,
     "metadata": {},
     "output_type": "execute_result"
    }
   ],
   "source": [
    "root_dir"
   ]
  },
  {
   "cell_type": "code",
   "execution_count": 300,
   "metadata": {},
   "outputs": [],
   "source": [
    "def writeFileToDisk(dir_name, file_name, label, image_file):\n",
    "    img = dicom.dcmread(image_file).pixel_array\n",
    "    img = img - img.min()\n",
    "    img = img /(img.max() - img.min())\n",
    "    img *= 255\n",
    "    img = np.uint8(img)\n",
    "    cv2.imwrite(dir_name+ file_name + \"_\" + label + \".png\" ,img) # write png image\n",
    "    "
   ]
  },
  {
   "cell_type": "code",
   "execution_count": 318,
   "metadata": {
    "collapsed": true
   },
   "outputs": [
    {
     "name": "stdout",
     "output_type": "stream",
     "text": [
      "E:/MTP_work/stage_2/dataset/CBIS-DDSM/processed_images/ROI_patches/Mass-Training_P_01888_RIGHT_MLO_1.png\n",
      "E:/MTP_work/stage_2/dataset/CBIS-DDSM/processed_images/masks/Mass-Training_P_01888_RIGHT_MLO_1.png\n",
      "E:/MTP_work/stage_2/dataset/CBIS-DDSM/processed_images/full_mammograms/Mass-Training_P_01889_RIGHT_CC_1.png\n",
      "E:/MTP_work/stage_2/dataset/CBIS-DDSM/processed_images/ROI_patches/Mass-Training_P_01889_RIGHT_CC_1.png\n",
      "E:/MTP_work/stage_2/dataset/CBIS-DDSM/processed_images/masks/Mass-Training_P_01889_RIGHT_CC_1.png\n",
      "E:/MTP_work/stage_2/dataset/CBIS-DDSM/processed_images/full_mammograms/Mass-Training_P_01889_RIGHT_MLO_1.png\n",
      "E:/MTP_work/stage_2/dataset/CBIS-DDSM/processed_images/ROI_patches/Mass-Training_P_01889_RIGHT_MLO_1.png\n",
      "E:/MTP_work/stage_2/dataset/CBIS-DDSM/processed_images/masks/Mass-Training_P_01889_RIGHT_MLO_1.png\n",
      "E:/MTP_work/stage_2/dataset/CBIS-DDSM/processed_images/full_mammograms/Mass-Training_P_01890_LEFT_MLO_1.png\n",
      "E:/MTP_work/stage_2/dataset/CBIS-DDSM/processed_images/masks/Mass-Training_P_01890_LEFT_MLO_1.png\n",
      "E:/MTP_work/stage_2/dataset/CBIS-DDSM/processed_images/ROI_patches/Mass-Training_P_01890_LEFT_MLO_1.png\n",
      "E:/MTP_work/stage_2/dataset/CBIS-DDSM/processed_images/full_mammograms/Mass-Training_P_01908_LEFT_CC_1.png\n",
      "E:/MTP_work/stage_2/dataset/CBIS-DDSM/processed_images/ROI_patches/Mass-Training_P_01908_LEFT_CC_1.png\n",
      "E:/MTP_work/stage_2/dataset/CBIS-DDSM/processed_images/masks/Mass-Training_P_01908_LEFT_CC_1.png\n",
      "E:/MTP_work/stage_2/dataset/CBIS-DDSM/processed_images/full_mammograms/Mass-Training_P_01946_RIGHT_CC_1.png\n",
      "E:/MTP_work/stage_2/dataset/CBIS-DDSM/processed_images/masks/Mass-Training_P_01946_RIGHT_CC_1.png\n",
      "E:/MTP_work/stage_2/dataset/CBIS-DDSM/processed_images/ROI_patches/Mass-Training_P_01946_RIGHT_CC_1.png\n",
      "E:/MTP_work/stage_2/dataset/CBIS-DDSM/processed_images/full_mammograms/Mass-Training_P_01946_RIGHT_MLO_1.png\n",
      "E:/MTP_work/stage_2/dataset/CBIS-DDSM/processed_images/ROI_patches/Mass-Training_P_01946_RIGHT_MLO_1.png\n",
      "E:/MTP_work/stage_2/dataset/CBIS-DDSM/processed_images/masks/Mass-Training_P_01946_RIGHT_MLO_1.png\n",
      "E:/MTP_work/stage_2/dataset/CBIS-DDSM/processed_images/full_mammograms/Mass-Training_P_01981_RIGHT_CC_1.png\n",
      "E:/MTP_work/stage_2/dataset/CBIS-DDSM/processed_images/ROI_patches/Mass-Training_P_01981_RIGHT_CC_1.png\n",
      "E:/MTP_work/stage_2/dataset/CBIS-DDSM/processed_images/masks/Mass-Training_P_01981_RIGHT_CC_1.png\n",
      "E:/MTP_work/stage_2/dataset/CBIS-DDSM/processed_images/full_mammograms/Mass-Training_P_01981_RIGHT_MLO_1.png\n",
      "E:/MTP_work/stage_2/dataset/CBIS-DDSM/processed_images/ROI_patches/Mass-Training_P_01981_RIGHT_MLO_1.png\n",
      "E:/MTP_work/stage_2/dataset/CBIS-DDSM/processed_images/masks/Mass-Training_P_01981_RIGHT_MLO_1.png\n",
      "E:/MTP_work/stage_2/dataset/CBIS-DDSM/processed_images/full_mammograms/Mass-Training_P_01983_LEFT_MLO_1.png\n",
      "E:/MTP_work/stage_2/dataset/CBIS-DDSM/processed_images/ROI_patches/Mass-Training_P_01983_LEFT_MLO_1.png\n",
      "E:/MTP_work/stage_2/dataset/CBIS-DDSM/processed_images/masks/Mass-Training_P_01983_LEFT_MLO_1.png\n",
      "E:/MTP_work/stage_2/dataset/CBIS-DDSM/processed_images/full_mammograms/Mass-Training_P_02033_RIGHT_CC_1.png\n",
      "E:/MTP_work/stage_2/dataset/CBIS-DDSM/processed_images/ROI_patches/Mass-Training_P_02033_RIGHT_CC_1.png\n",
      "E:/MTP_work/stage_2/dataset/CBIS-DDSM/processed_images/masks/Mass-Training_P_02033_RIGHT_CC_1.png\n",
      "E:/MTP_work/stage_2/dataset/CBIS-DDSM/processed_images/full_mammograms/Mass-Training_P_02033_RIGHT_MLO_1.png\n",
      "E:/MTP_work/stage_2/dataset/CBIS-DDSM/processed_images/ROI_patches/Mass-Training_P_02033_RIGHT_MLO_1.png\n",
      "E:/MTP_work/stage_2/dataset/CBIS-DDSM/processed_images/masks/Mass-Training_P_02033_RIGHT_MLO_1.png\n",
      "E:/MTP_work/stage_2/dataset/CBIS-DDSM/processed_images/full_mammograms/Mass-Training_P_02079_RIGHT_CC_1.png\n",
      "E:/MTP_work/stage_2/dataset/CBIS-DDSM/processed_images/ROI_patches/Mass-Training_P_02079_RIGHT_CC_1.png\n",
      "E:/MTP_work/stage_2/dataset/CBIS-DDSM/processed_images/masks/Mass-Training_P_02079_RIGHT_CC_1.png\n",
      "E:/MTP_work/stage_2/dataset/CBIS-DDSM/processed_images/full_mammograms/Mass-Training_P_02079_RIGHT_MLO_1.png\n",
      "E:/MTP_work/stage_2/dataset/CBIS-DDSM/processed_images/ROI_patches/Mass-Training_P_02079_RIGHT_MLO_1.png\n",
      "E:/MTP_work/stage_2/dataset/CBIS-DDSM/processed_images/masks/Mass-Training_P_02079_RIGHT_MLO_1.png\n",
      "E:/MTP_work/stage_2/dataset/CBIS-DDSM/processed_images/full_mammograms/Mass-Training_P_02092_LEFT_CC_1.png\n",
      "E:/MTP_work/stage_2/dataset/CBIS-DDSM/processed_images/ROI_patches/Mass-Training_P_02092_LEFT_CC_1.png\n",
      "E:/MTP_work/stage_2/dataset/CBIS-DDSM/processed_images/masks/Mass-Training_P_02092_LEFT_CC_1.png\n",
      "E:/MTP_work/stage_2/dataset/CBIS-DDSM/processed_images/full_mammograms/Mass-Training_P_02092_LEFT_MLO_1.png\n",
      "E:/MTP_work/stage_2/dataset/CBIS-DDSM/processed_images/ROI_patches/Mass-Training_P_02092_LEFT_MLO_1.png\n",
      "E:/MTP_work/stage_2/dataset/CBIS-DDSM/processed_images/masks/Mass-Training_P_02092_LEFT_MLO_1.png\n",
      "ROIs = 16, Masks = 16, full_mammograms = 15\n",
      "total_images = 47\n",
      "All files have been Successfully written to disk!!!\n"
     ]
    }
   ],
   "source": [
    "ROI_patch_dir = 'E:/MTP_work/stage_2/dataset/CBIS-DDSM/processed_images/ROI_patches/'\n",
    "full_mammogram_dir = 'E:/MTP_work/stage_2/dataset/CBIS-DDSM/processed_images/full_mammograms/'\n",
    "Mask_dir = 'E:/MTP_work/stage_2/dataset/CBIS-DDSM/processed_images/masks/'\n",
    "\n",
    "ROI_count, full_mammogram_count, mask_count = (0, 0, 0)\n",
    "\n",
    "for f in dcm_files:\n",
    "    if fileTypeChecker(f)[0] == 'ROI_patch':\n",
    "        print(ROI_patch_dir + fileTypeChecker(f)[1]+'.png')\n",
    "        writeFileToDisk(ROI_patch_dir, fileTypeChecker(f)[1], getLabel(f), f)\n",
    "        ROI_count += 1\n",
    "        \n",
    "    elif fileTypeChecker(f)[0] == 'Mask':\n",
    "        print(Mask_dir + fileTypeChecker(f)[1]+'.png')\n",
    "        writeFileToDisk(Mask_dir, fileTypeChecker(f)[1], getLabel(f), f)\n",
    "        mask_count += 1\n",
    "        \n",
    "    elif fileTypeChecker(f)[0] == 'full_mammogram':\n",
    "        print(full_mammogram_dir + fileTypeChecker(f)[1]+'.png')\n",
    "        writeFileToDisk(full_mammogram_dir, fileTypeChecker(f)[1], getLabel(f), f)\n",
    "        full_mammogram_count += 1\n",
    "        \n",
    "    else:\n",
    "        print(\"Unknown file type:\",f)\n",
    "        #cv2.imwrite(ROI_patch_dir+ fileTypeChecker(f)[1] + \".png\" ,img) # write png image\n",
    "else:\n",
    "    print('ROIs = {}, Masks = {}, full_mammograms = {}'.format(ROI_count, mask_count, full_mammogram_count))\n",
    "    print('total_images = {}'.format(len(dcm_files)))\n",
    "    if ROI_count + mask_count + full_mammogram_count == len(dcm_files):\n",
    "        print('All files have been Successfully written to disk!!!')\n",
    "    else:\n",
    "        print('Some files have not been properly processed.!!!')"
   ]
  },
  {
   "cell_type": "code",
   "execution_count": 302,
   "metadata": {},
   "outputs": [],
   "source": [
    "dex = pd.read_csv('E:/MTP_work/stage_2/dataset/mass_case_description_train_set.csv')"
   ]
  },
  {
   "cell_type": "code",
   "execution_count": 316,
   "metadata": {},
   "outputs": [
    {
     "data": {
      "text/html": [
       "<div>\n",
       "<style scoped>\n",
       "    .dataframe tbody tr th:only-of-type {\n",
       "        vertical-align: middle;\n",
       "    }\n",
       "\n",
       "    .dataframe tbody tr th {\n",
       "        vertical-align: top;\n",
       "    }\n",
       "\n",
       "    .dataframe thead th {\n",
       "        text-align: right;\n",
       "    }\n",
       "</style>\n",
       "<table border=\"1\" class=\"dataframe\">\n",
       "  <thead>\n",
       "    <tr style=\"text-align: right;\">\n",
       "      <th></th>\n",
       "      <th>patient_id</th>\n",
       "      <th>breast_density</th>\n",
       "      <th>left or right breast</th>\n",
       "      <th>image view</th>\n",
       "      <th>abnormality id</th>\n",
       "      <th>abnormality type</th>\n",
       "      <th>mass shape</th>\n",
       "      <th>mass margins</th>\n",
       "      <th>assessment</th>\n",
       "      <th>pathology</th>\n",
       "      <th>subtlety</th>\n",
       "      <th>image file path</th>\n",
       "      <th>cropped image file path</th>\n",
       "      <th>ROI mask file path</th>\n",
       "    </tr>\n",
       "  </thead>\n",
       "  <tbody>\n",
       "    <tr>\n",
       "      <th>1303</th>\n",
       "      <td>P_01889</td>\n",
       "      <td>1</td>\n",
       "      <td>RIGHT</td>\n",
       "      <td>CC</td>\n",
       "      <td>1</td>\n",
       "      <td>mass</td>\n",
       "      <td>LOBULATED</td>\n",
       "      <td>CIRCUMSCRIBED</td>\n",
       "      <td>3</td>\n",
       "      <td>BENIGN</td>\n",
       "      <td>5</td>\n",
       "      <td>Mass-Training_P_01889_RIGHT_CC/1.3.6.1.4.1.959...</td>\n",
       "      <td>Mass-Training_P_01889_RIGHT_CC_1/1.3.6.1.4.1.9...</td>\n",
       "      <td>Mass-Training_P_01889_RIGHT_CC_1/1.3.6.1.4.1.9...</td>\n",
       "    </tr>\n",
       "    <tr>\n",
       "      <th>1304</th>\n",
       "      <td>P_01889</td>\n",
       "      <td>1</td>\n",
       "      <td>RIGHT</td>\n",
       "      <td>MLO</td>\n",
       "      <td>1</td>\n",
       "      <td>mass</td>\n",
       "      <td>LOBULATED</td>\n",
       "      <td>CIRCUMSCRIBED</td>\n",
       "      <td>3</td>\n",
       "      <td>BENIGN</td>\n",
       "      <td>5</td>\n",
       "      <td>Mass-Training_P_01889_RIGHT_MLO/1.3.6.1.4.1.95...</td>\n",
       "      <td>Mass-Training_P_01889_RIGHT_MLO_1/1.3.6.1.4.1....</td>\n",
       "      <td>Mass-Training_P_01889_RIGHT_MLO_1/1.3.6.1.4.1....</td>\n",
       "    </tr>\n",
       "  </tbody>\n",
       "</table>\n",
       "</div>"
      ],
      "text/plain": [
       "     patient_id  breast_density left or right breast image view  \\\n",
       "1303    P_01889               1                RIGHT         CC   \n",
       "1304    P_01889               1                RIGHT        MLO   \n",
       "\n",
       "      abnormality id abnormality type mass shape   mass margins  assessment  \\\n",
       "1303               1             mass  LOBULATED  CIRCUMSCRIBED           3   \n",
       "1304               1             mass  LOBULATED  CIRCUMSCRIBED           3   \n",
       "\n",
       "     pathology  subtlety                                    image file path  \\\n",
       "1303    BENIGN         5  Mass-Training_P_01889_RIGHT_CC/1.3.6.1.4.1.959...   \n",
       "1304    BENIGN         5  Mass-Training_P_01889_RIGHT_MLO/1.3.6.1.4.1.95...   \n",
       "\n",
       "                                cropped image file path  \\\n",
       "1303  Mass-Training_P_01889_RIGHT_CC_1/1.3.6.1.4.1.9...   \n",
       "1304  Mass-Training_P_01889_RIGHT_MLO_1/1.3.6.1.4.1....   \n",
       "\n",
       "                                     ROI mask file path  \n",
       "1303  Mass-Training_P_01889_RIGHT_CC_1/1.3.6.1.4.1.9...  \n",
       "1304  Mass-Training_P_01889_RIGHT_MLO_1/1.3.6.1.4.1....  "
      ]
     },
     "execution_count": 316,
     "metadata": {},
     "output_type": "execute_result"
    }
   ],
   "source": [
    "dex.loc[dex['patient_id'] == 'P_01889']"
   ]
  },
  {
   "cell_type": "code",
   "execution_count": 271,
   "metadata": {
    "collapsed": true
   },
   "outputs": [
    {
     "data": {
      "text/plain": [
       "patient_id                                                           P_00038\n",
       "breast density                                                             2\n",
       "left or right breast                                                   RIGHT\n",
       "image view                                                                CC\n",
       "abnormality id                                                             1\n",
       "abnormality type                                               calcification\n",
       "calc type                                                           VASCULAR\n",
       "calc distribution                                                        NaN\n",
       "assessment                                                                 2\n",
       "pathology                                            BENIGN_WITHOUT_CALLBACK\n",
       "subtlety                                                                   5\n",
       "image file path            Calc-Test_P_00038_RIGHT_CC/1.3.6.1.4.1.9590.10...\n",
       "cropped image file path    Calc-Test_P_00038_RIGHT_CC_1/1.3.6.1.4.1.9590....\n",
       "ROI mask file path         Calc-Test_P_00038_RIGHT_CC_1/1.3.6.1.4.1.9590....\n",
       "Name: 2, dtype: object"
      ]
     },
     "execution_count": 271,
     "metadata": {},
     "output_type": "execute_result"
    }
   ],
   "source": [
    "name = dex.loc[2]\n",
    "name"
   ]
  },
  {
   "cell_type": "code",
   "execution_count": 272,
   "metadata": {},
   "outputs": [
    {
     "data": {
      "text/plain": [
       "'P_00038_RIGHT_CC_1_BENIGN_WITHOUT_CALLBACK'"
      ]
     },
     "execution_count": 272,
     "metadata": {},
     "output_type": "execute_result"
    }
   ],
   "source": [
    "patient_name = '{patient_id}_{left or right breast}_{image view}_{abnormality id}_{pathology}'.format(**name)\n",
    "patient_name"
   ]
  },
  {
   "cell_type": "code",
   "execution_count": 309,
   "metadata": {},
   "outputs": [],
   "source": [
    "n = fileTypeChecker(dcm_files[0])"
   ]
  },
  {
   "cell_type": "code",
   "execution_count": 310,
   "metadata": {},
   "outputs": [
    {
     "data": {
      "text/plain": [
       "'Mass-Training_P_01888_RIGHT_MLO_1'"
      ]
     },
     "execution_count": 310,
     "metadata": {},
     "output_type": "execute_result"
    }
   ],
   "source": [
    "n[1]"
   ]
  },
  {
   "cell_type": "code",
   "execution_count": 312,
   "metadata": {},
   "outputs": [
    {
     "data": {
      "text/plain": [
       "('01888', 'RIGHT', 'MLO', '1')"
      ]
     },
     "execution_count": 312,
     "metadata": {},
     "output_type": "execute_result"
    }
   ],
   "source": [
    "PID , LorR, view, abnormality_id = n[1].split(\"_\")[-4:]\n",
    "(PID , LorR, view, abnormality_id)"
   ]
  },
  {
   "cell_type": "code",
   "execution_count": 313,
   "metadata": {},
   "outputs": [
    {
     "data": {
      "text/plain": [
       "1302    MALIGNANT\n",
       "Name: pathology, dtype: object"
      ]
     },
     "execution_count": 313,
     "metadata": {},
     "output_type": "execute_result"
    }
   ],
   "source": [
    "label = dex.loc[(dex['patient_id'] == 'P_'+PID) & (dex['left or right breast'] == LorR) & (dex['image view'] == view) & (dex['abnormality id'] == int(abnormality_id)) ]['pathology']\n",
    "label"
   ]
  },
  {
   "cell_type": "code",
   "execution_count": 275,
   "metadata": {},
   "outputs": [
    {
     "data": {
      "text/plain": [
       "'BENIGN_WITHOUT_CALLBACK'"
      ]
     },
     "execution_count": 275,
     "metadata": {},
     "output_type": "execute_result"
    }
   ],
   "source": [
    "label.values.item()"
   ]
  },
  {
   "cell_type": "code",
   "execution_count": 292,
   "metadata": {},
   "outputs": [],
   "source": [
    "def getLabel(img):\n",
    "    name = fileTypeChecker(img)\n",
    "    PID , LorR, view, abnormality_id = name[1].split(\"_\")[-4:]\n",
    "    label = dex.loc[(dex['patient_id'] == 'P_'+PID) & (dex['left or right breast'] == LorR) & (dex['image view'] == view) & (dex['abnormality id'] == int(abnormality_id)) ]['pathology']\n",
    "    if label.values.item() == 'BENIGN_WITHOUT_CALLBACK':\n",
    "        return 'BENIGN' # considering BENIGN_WITHOUT_CALLBACK same as BENIGN\n",
    "    return label.values.item()\n",
    "    "
   ]
  }
 ],
 "metadata": {
  "kernelspec": {
   "display_name": "Python 3",
   "language": "python",
   "name": "python3"
  },
  "language_info": {
   "codemirror_mode": {
    "name": "ipython",
    "version": 3
   },
   "file_extension": ".py",
   "mimetype": "text/x-python",
   "name": "python",
   "nbconvert_exporter": "python",
   "pygments_lexer": "ipython3",
   "version": "3.6.6"
  }
 },
 "nbformat": 4,
 "nbformat_minor": 2
}
